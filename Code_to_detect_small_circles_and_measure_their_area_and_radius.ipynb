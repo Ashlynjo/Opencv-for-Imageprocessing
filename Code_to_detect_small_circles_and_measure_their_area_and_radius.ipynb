{
  "nbformat": 4,
  "nbformat_minor": 0,
  "metadata": {
    "colab": {
      "provenance": []
    },
    "kernelspec": {
      "name": "python3",
      "display_name": "Python 3"
    },
    "language_info": {
      "name": "python"
    }
  },
  "cells": [
    {
      "cell_type": "markdown",
      "source": [
        "Code to detect small circles and measure their area and radius"
      ],
      "metadata": {
        "id": "Q9AtyjqsTqp9"
      }
    },
    {
      "cell_type": "code",
      "execution_count": 1,
      "metadata": {
        "colab": {
          "base_uri": "https://localhost:8080/",
          "height": 34
        },
        "id": "C8FbyaEbToqi",
        "outputId": "72a7e37e-1723-4b02-d764-40ed72d71ccf"
      },
      "outputs": [
        {
          "output_type": "display_data",
          "data": {
            "text/plain": [
              "<IPython.core.display.Javascript object>"
            ],
            "application/javascript": [
              "\n",
              "    async function download(id, filename, size) {\n",
              "      if (!google.colab.kernel.accessAllowed) {\n",
              "        return;\n",
              "      }\n",
              "      const div = document.createElement('div');\n",
              "      const label = document.createElement('label');\n",
              "      label.textContent = `Downloading \"${filename}\": `;\n",
              "      div.appendChild(label);\n",
              "      const progress = document.createElement('progress');\n",
              "      progress.max = size;\n",
              "      div.appendChild(progress);\n",
              "      document.body.appendChild(div);\n",
              "\n",
              "      const buffers = [];\n",
              "      let downloaded = 0;\n",
              "\n",
              "      const channel = await google.colab.kernel.comms.open(id);\n",
              "      // Send a message to notify the kernel that we're ready.\n",
              "      channel.send({})\n",
              "\n",
              "      for await (const message of channel.messages) {\n",
              "        // Send a message to notify the kernel that we're ready.\n",
              "        channel.send({})\n",
              "        if (message.buffers) {\n",
              "          for (const buffer of message.buffers) {\n",
              "            buffers.push(buffer);\n",
              "            downloaded += buffer.byteLength;\n",
              "            progress.value = downloaded;\n",
              "          }\n",
              "        }\n",
              "      }\n",
              "      const blob = new Blob(buffers, {type: 'application/binary'});\n",
              "      const a = document.createElement('a');\n",
              "      a.href = window.URL.createObjectURL(blob);\n",
              "      a.download = filename;\n",
              "      div.appendChild(a);\n",
              "      a.click();\n",
              "      div.remove();\n",
              "    }\n",
              "  "
            ]
          },
          "metadata": {}
        },
        {
          "output_type": "display_data",
          "data": {
            "text/plain": [
              "<IPython.core.display.Javascript object>"
            ],
            "application/javascript": [
              "download(\"download_1ef233b8-3584-48db-b1fb-6dbc7e450fd6\", \"processed_single_image_results.zip\", 19660)"
            ]
          },
          "metadata": {}
        },
        {
          "output_type": "stream",
          "name": "stdout",
          "text": [
            "Processed results for random_circles_inverted.png are saved and zipped as processed_single_image_results.zip.\n"
          ]
        }
      ],
      "source": [
        "import cv2\n",
        "import numpy as np\n",
        "import os\n",
        "import zipfile\n",
        "import pandas as pd\n",
        "from google.colab import files\n",
        "\n",
        "# Conversion factor from pixels to micrometers\n",
        "PIXELS_TO_MICROMETERS = 9.3  # 9.3 pixels = 1 micrometer\n",
        "\n",
        "# Specify the path to the single image\n",
        "image_path = '/content/random_circles_inverted.png'  # Replace with the path to your image\n",
        "\n",
        "# Create output directories\n",
        "image_dir = os.path.dirname(image_path)\n",
        "thresholded_dir = os.path.join(image_dir, 'thresholded_images')\n",
        "contour_dir = os.path.join(image_dir, 'contour_images')\n",
        "excel_dir = os.path.join(image_dir, 'excel_files')\n",
        "os.makedirs(thresholded_dir, exist_ok=True)\n",
        "os.makedirs(contour_dir, exist_ok=True)\n",
        "os.makedirs(excel_dir, exist_ok=True)\n",
        "\n",
        "# Function to process and analyze a single image\n",
        "def process_and_analyze_image(image_path, thresholded_path, contour_path, excel_path):\n",
        "    # Load image\n",
        "    image = cv2.imread(image_path, cv2.IMREAD_GRAYSCALE)\n",
        "\n",
        "    # Apply adaptive thresholding\n",
        "    adaptive_thresh = cv2.adaptiveThreshold(image, 255,\n",
        "                                            cv2.ADAPTIVE_THRESH_GAUSSIAN_C,\n",
        "                                            cv2.THRESH_BINARY_INV,\n",
        "                                            11, 2)\n",
        "\n",
        "    # Save thresholded image with higher compression (JPEG/PNG)\n",
        "    if thresholded_path.endswith('.jpg') or thresholded_path.endswith('.jpeg'):\n",
        "        cv2.imwrite(thresholded_path, adaptive_thresh, [int(cv2.IMWRITE_JPEG_QUALITY), 50])  # 50% quality for higher compression\n",
        "    elif thresholded_path.endswith('.png'):\n",
        "        cv2.imwrite(thresholded_path, adaptive_thresh, [int(cv2.IMWRITE_PNG_COMPRESSION), 9])  # Highest compression for PNG\n",
        "\n",
        "    # Define kernel for morphological operations\n",
        "    kernel = np.ones((5, 5), np.uint8)\n",
        "    cleaned_image = cv2.morphologyEx(adaptive_thresh, cv2.MORPH_OPEN, kernel)\n",
        "\n",
        "    # Find contours\n",
        "    contours, _ = cv2.findContours(cleaned_image, cv2.RETR_EXTERNAL, cv2.CHAIN_APPROX_SIMPLE)\n",
        "\n",
        "    # Analyze contours\n",
        "    data = []\n",
        "    for contour in contours:\n",
        "        area_pixels = cv2.contourArea(contour)\n",
        "        if area_pixels > 10:  # Filter out small noise\n",
        "            area_micrometers = area_pixels / (PIXELS_TO_MICROMETERS**2)  # Convert area to µm²\n",
        "            (x, y), radius_pixels = cv2.minEnclosingCircle(contour)\n",
        "            radius_micrometers = radius_pixels / PIXELS_TO_MICROMETERS  # Convert radius to µm\n",
        "            data.append({\n",
        "                \"Area (µm²)\": area_micrometers,\n",
        "                \"Center X (µm)\": x / PIXELS_TO_MICROMETERS,\n",
        "                \"Center Y (µm)\": y / PIXELS_TO_MICROMETERS,\n",
        "                \"Radius (µm)\": radius_micrometers\n",
        "            })\n",
        "\n",
        "    # Save data to an Excel file\n",
        "    df = pd.DataFrame(data)\n",
        "    df.to_excel(excel_path, index=False)\n",
        "\n",
        "    # Draw contours on the image\n",
        "    result_image = cv2.cvtColor(cleaned_image, cv2.COLOR_GRAY2BGR)\n",
        "    for row in data:\n",
        "        center_x = int(row[\"Center X (µm)\"] * PIXELS_TO_MICROMETERS)\n",
        "        center_y = int(row[\"Center Y (µm)\"] * PIXELS_TO_MICROMETERS)\n",
        "        radius = int(row[\"Radius (µm)\"] * PIXELS_TO_MICROMETERS)\n",
        "        cv2.circle(result_image, (center_x, center_y), radius, (0, 255, 0), 2)\n",
        "\n",
        "    # Save image with contours with higher compression (JPEG/PNG)\n",
        "    if contour_path.endswith('.jpg') or contour_path.endswith('.jpeg'):\n",
        "        cv2.imwrite(contour_path, result_image, [int(cv2.IMWRITE_JPEG_QUALITY), 50])  # 50% quality for higher compression\n",
        "    elif contour_path.endswith('.png'):\n",
        "        cv2.imwrite(contour_path, result_image, [int(cv2.IMWRITE_PNG_COMPRESSION), 9])  # Highest compression for PNG\n",
        "\n",
        "# Set the paths for output files\n",
        "filename = os.path.basename(image_path)\n",
        "thresholded_path = os.path.join(thresholded_dir, f'thresholded_{filename}')\n",
        "contour_path = os.path.join(contour_dir, f'contour_{filename}')\n",
        "excel_path = os.path.join(excel_dir, f'{os.path.splitext(filename)[0]}_analysis.xlsx')\n",
        "\n",
        "# Process the single image\n",
        "process_and_analyze_image(image_path, thresholded_path, contour_path, excel_path)\n",
        "\n",
        "# Zip all output files for download\n",
        "output_zip = 'processed_single_image_results.zip'\n",
        "with zipfile.ZipFile(output_zip, 'w') as zipf:\n",
        "    for file_path in [thresholded_path, contour_path, excel_path]:\n",
        "        zipf.write(file_path, os.path.relpath(file_path, image_dir))\n",
        "\n",
        "# Provide download link for the zip file\n",
        "files.download(output_zip)\n",
        "\n",
        "# Feedback on completion\n",
        "print(f\"Processed results for {filename} are saved and zipped as {output_zip}.\")\n"
      ]
    }
  ]
}